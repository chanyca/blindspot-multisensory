{
 "cells": [
  {
   "cell_type": "code",
   "execution_count": 3,
   "id": "3143f178",
   "metadata": {},
   "outputs": [],
   "source": [
    "import numpy as np\n",
    "import pandas as pd\n",
    "import os"
   ]
  },
  {
   "cell_type": "code",
   "execution_count": 10,
   "id": "b0c533fa",
   "metadata": {},
   "outputs": [],
   "source": [
    "csv_files = [f for f in os.listdir() if f.startswith('SV')]\n",
    "dfs = [pd.read_csv(f) for f in csv_files]\n",
    "df = pd.concat(dfs, ignore_index=True)\n",
    "\n",
    "# save\n",
    "df.to_csv('all_subjects.csv', index=False)"
   ]
  }
 ],
 "metadata": {
  "kernelspec": {
   "display_name": "blindspot-multisensory",
   "language": "python",
   "name": "python3"
  },
  "language_info": {
   "codemirror_mode": {
    "name": "ipython",
    "version": 3
   },
   "file_extension": ".py",
   "mimetype": "text/x-python",
   "name": "python",
   "nbconvert_exporter": "python",
   "pygments_lexer": "ipython3",
   "version": "3.12.11"
  }
 },
 "nbformat": 4,
 "nbformat_minor": 5
}
